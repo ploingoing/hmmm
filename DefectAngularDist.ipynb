{
 "cells": [
  {
   "cell_type": "markdown",
   "metadata": {},
   "source": [
    "If $(x_i,y_i,z_i)$ are the initial position of the PKA launched in a direction given by the Euler angles $\\phi, \\theta$, and $\\vec{l}_{PKA}$ is the unit vector in the direction of the PKA, then the final positions of the unit vector pointing in the direction of launch of the PKA is given by:\n",
    "\n",
    "\\begin{equation}\n",
    "\\label{xf}\n",
    "x_f = x_i + Sin\\theta\\ Cos\\phi\n",
    "\\end{equation}\n",
    "\n",
    "\\begin{equation}\n",
    "\\label{yf}\n",
    "y_f = y_i + Sin\\theta\\ Sin\\phi\n",
    "\\end{equation}\n",
    "\n",
    "\\begin{equation}\n",
    "\\label{zf}\n",
    "z_f = z_i + Cos\\theta\n",
    "\\end{equation}\n",
    "\n",
    "Suppose a defect is located at $(x_d, Y_d, z_d)$, the angular spread of the defects around the direction of the PKA can be described by the angle $\\alpha$ between the unit vector, $\\vec{l}_d$, directed from the PKA origin to the defect and the unit vector along the direction of launch of the PKA, $\\vec{l}_{PKA}$. $\\vec{l}_d$ is given by:\n",
    "\n",
    "\\begin{equation}\n",
    "\\label{ld}\n",
    "\\vec{l}_d = \\frac{(x_d-x_i)\\hat{i}+(y_d-y_i)\\hat{j}+(z_d-z_i)\\hat{k}}{\\sqrt{(x_d-x_i)^2+(y_d-y_i)^2+(z_d-z_i)^2}}\n",
    "\\end{equation}\n",
    "\n",
    "and $\\alpha$ is given by:\n",
    "\n",
    "\\begin{equation}\n",
    "\\label{alpha}\n",
    "\\alpha = cos^{-1}\\left[(x_d-x_i)\\ Sin\\theta\\ Cos\\phi + (y_d-y_i)\\ Sin\\theta\\ Sin\\phi + (z_d-z_i)\\ Cos\\theta \\right]\n",
    "\\end{equation}"
   ]
  },
  {
   "cell_type": "code",
   "execution_count": null,
   "metadata": {},
   "outputs": [],
   "source": []
  }
 ],
 "metadata": {
  "kernelspec": {
   "display_name": "Python 3",
   "language": "python",
   "name": "python3"
  },
  "language_info": {
   "codemirror_mode": {
    "name": "ipython",
    "version": 3
   },
   "file_extension": ".py",
   "mimetype": "text/x-python",
   "name": "python",
   "nbconvert_exporter": "python",
   "pygments_lexer": "ipython3",
   "version": "3.6.4"
  }
 },
 "nbformat": 4,
 "nbformat_minor": 2
}
